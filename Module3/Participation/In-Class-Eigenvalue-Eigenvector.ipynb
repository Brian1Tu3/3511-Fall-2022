{
 "cells": [
  {
   "cell_type": "markdown",
   "id": "237d3de1",
   "metadata": {},
   "source": [
    "# Eigenvalues and Eigenvectors"
   ]
  },
  {
   "cell_type": "code",
   "execution_count": null,
   "id": "07483e17",
   "metadata": {},
   "outputs": [],
   "source": [
    "import numpy as np\n",
    "import matplotlib.pyplot as plt\n",
    "%matplotlib notebook"
   ]
  },
  {
   "cell_type": "markdown",
   "id": "a7c18e77",
   "metadata": {},
   "source": [
    "\n",
    "$$\\vec{A} = \n",
    "\\begin{pmatrix}\n",
    " 11 &  -1 & 0\\\\\n",
    "-1 &  12 & -1\\\\\n",
    " 0 &  -1 & 11\n",
    "\\end{pmatrix}\n",
    "$$\n",
    "\n",
    "Find the eigenvalues and eigenvectors for the equation:\n",
    "\n",
    "$$(\\vec{A} - \\lambda\\vec{I})\\vec{v} = 0,$$\n",
    "where $\\vec{v}$ are the eigenvectors and $\\lambda$ is the eigenvalues"
   ]
  },
  {
   "cell_type": "code",
   "execution_count": null,
   "id": "2b05781c",
   "metadata": {},
   "outputs": [],
   "source": [
    "#define matrix\n",
    "A = np.array([[11,-1,0], [-1,12,-1],[0,-1,11]])"
   ]
  },
  {
   "cell_type": "code",
   "execution_count": null,
   "id": "c9094862",
   "metadata": {},
   "outputs": [],
   "source": [
    "#find eigenvaules and eigenvectors\n",
    "value,vector = np.linalg.eig(A)\n",
    "print('Eigen values:', value)\n",
    "print('Eigen vectors', vector)"
   ]
  },
  {
   "cell_type": "code",
   "execution_count": null,
   "id": "fdccf843",
   "metadata": {},
   "outputs": [],
   "source": []
  },
  {
   "cell_type": "code",
   "execution_count": null,
   "id": "b995c1ab",
   "metadata": {},
   "outputs": [],
   "source": []
  },
  {
   "cell_type": "code",
   "execution_count": null,
   "id": "dc4d86e1",
   "metadata": {},
   "outputs": [],
   "source": []
  },
  {
   "cell_type": "code",
   "execution_count": null,
   "id": "03286f4e",
   "metadata": {},
   "outputs": [],
   "source": []
  },
  {
   "cell_type": "code",
   "execution_count": null,
   "id": "c08ca848",
   "metadata": {},
   "outputs": [],
   "source": []
  },
  {
   "cell_type": "code",
   "execution_count": null,
   "id": "ece7333d",
   "metadata": {},
   "outputs": [],
   "source": []
  }
 ],
 "metadata": {
  "kernelspec": {
   "display_name": "Python 3 (ipykernel)",
   "language": "python",
   "name": "python3"
  },
  "language_info": {
   "codemirror_mode": {
    "name": "ipython",
    "version": 3
   },
   "file_extension": ".py",
   "mimetype": "text/x-python",
   "name": "python",
   "nbconvert_exporter": "python",
   "pygments_lexer": "ipython3",
   "version": "3.9.12"
  }
 },
 "nbformat": 4,
 "nbformat_minor": 5
}
